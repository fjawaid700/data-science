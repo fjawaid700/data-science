{
 "cells": [
  {
   "cell_type": "code",
   "execution_count": 7,
   "id": "db038371",
   "metadata": {},
   "outputs": [
    {
     "name": "stdout",
     "output_type": "stream",
     "text": [
      "\t\t\tTwinkle, twinkle, little star,\n",
      "\t\t\t\tHow I wonder what are!\n",
      "\t\t\t\t\tUp above the world so high,\n",
      "\t\t\t\t\tLike a diamond in the sky.\n",
      "\t\t\tTwinkle, twinkle, little star,\n",
      "\t\t\t\tHow I wonder what are\n"
     ]
    }
   ],
   "source": [
    "print(\"\\t\\t\\tTwinkle, twinkle, little star,\\n\\t\\t\\t\\tHow I wonder what are!\\n\\t\\t\\t\\t\\tUp above the world so high,\\n\\t\\t\\t\\t\\tLike a diamond in the sky.\\n\\t\\t\\tTwinkle, twinkle, little star,\\n\\t\\t\\t\\tHow I wonder what are\")"
   ]
  },
  {
   "cell_type": "code",
   "execution_count": 9,
   "id": "aedeabdd",
   "metadata": {},
   "outputs": [
    {
     "ename": "SyntaxError",
     "evalue": "unexpected character after line continuation character (Temp/ipykernel_4792/177574721.py, line 1)",
     "output_type": "error",
     "traceback": [
      "\u001b[1;36m  File \u001b[1;32m\"C:\\Users\\PICSED~1\\AppData\\Local\\Temp/ipykernel_4792/177574721.py\"\u001b[1;36m, line \u001b[1;32m1\u001b[0m\n\u001b[1;33m    print(\\\"Python version:\\\" , sys.version )\\n\u001b[0m\n\u001b[1;37m                                              ^\u001b[0m\n\u001b[1;31mSyntaxError\u001b[0m\u001b[1;31m:\u001b[0m unexpected character after line continuation character\n"
     ]
    }
   ],
   "source": [
    "print(\\\"Python version:\\\" , sys.version )\\n"
   ]
  },
  {
   "cell_type": "code",
   "execution_count": null,
   "id": "232b879c",
   "metadata": {},
   "outputs": [],
   "source": []
  }
 ],
 "metadata": {
  "kernelspec": {
   "display_name": "Python 3 (ipykernel)",
   "language": "python",
   "name": "python3"
  },
  "language_info": {
   "codemirror_mode": {
    "name": "ipython",
    "version": 3
   },
   "file_extension": ".py",
   "mimetype": "text/x-python",
   "name": "python",
   "nbconvert_exporter": "python",
   "pygments_lexer": "ipython3",
   "version": "3.9.7"
  }
 },
 "nbformat": 4,
 "nbformat_minor": 5
}
