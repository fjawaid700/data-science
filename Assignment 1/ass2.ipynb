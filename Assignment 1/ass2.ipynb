{
 "cells": [
  {
   "cell_type": "code",
   "execution_count": 7,
   "id": "93fc203e",
   "metadata": {},
   "outputs": [
    {
     "name": "stdout",
     "output_type": "stream",
     "text": [
      "\t\t\tTwinkle, twinkle, little star,\n",
      "\t\t\t\tHow I wonder what are!\n",
      "\t\t\t\t\tUp above the world so high,\n",
      "\t\t\t\t\tLike a diamond in the sky.\n",
      "\t\t\tTwinkle, twinkle, little star,\n",
      "\t\t\t\tHow I wonder what are\n"
     ]
    }
   ],
   "source": [
    "print(\"\\t\\t\\tTwinkle, twinkle, little star,\\n\\t\\t\\t\\tHow I wonder what are!\\n\\t\\t\\t\\t\\tUp above the world so high,\\n\\t\\t\\t\\t\\tLike a diamond in the sky.\\n\\t\\t\\tTwinkle, twinkle, little star,\\n\\t\\t\\t\\tHow I wonder what are\")"
   ]
  },
  {
   "cell_type": "code",
   "execution_count": 10,
   "id": "f2857640",
   "metadata": {},
   "outputs": [
    {
     "name": "stdout",
     "output_type": "stream",
     "text": [
      "3.9.7 (default, Sep 16 2021, 16:59:28) [MSC v.1916 64 bit (AMD64)]\n"
     ]
    }
   ],
   "source": [
    "import sys\n",
    "print(sys.version)"
   ]
  },
  {
   "cell_type": "code",
   "execution_count": 13,
   "id": "2d514fce",
   "metadata": {},
   "outputs": [
    {
     "name": "stdout",
     "output_type": "stream",
     "text": [
      "Current date and time : \n",
      "2022-01-01 13:16:59\n"
     ]
    }
   ],
   "source": [
    "import datetime\n",
    "now = datetime.datetime.now()\n",
    "print (\"Current date and time : \")\n",
    "print (now.strftime(\"%Y-%m-%d %H:%M:%S\"))"
   ]
  },
  {
   "cell_type": "code",
   "execution_count": null,
   "id": "1e7ab8c1",
   "metadata": {},
   "outputs": [],
   "source": []
  }
 ],
 "metadata": {
  "kernelspec": {
   "display_name": "Python 3 (ipykernel)",
   "language": "python",
   "name": "python3"
  },
  "language_info": {
   "codemirror_mode": {
    "name": "ipython",
    "version": 3
   },
   "file_extension": ".py",
   "mimetype": "text/x-python",
   "name": "python",
   "nbconvert_exporter": "python",
   "pygments_lexer": "ipython3",
   "version": "3.9.7"
  }
 },
 "nbformat": 4,
 "nbformat_minor": 5
}
