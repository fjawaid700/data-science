{
 "cells": [
  {
   "cell_type": "code",
   "execution_count": 7,
   "id": "ecca3e0e",
   "metadata": {},
   "outputs": [
    {
     "name": "stdout",
     "output_type": "stream",
     "text": [
      "\t\t\tTwinkle, twinkle, little star,\n",
      "\t\t\t\tHow I wonder what are!\n",
      "\t\t\t\t\tUp above the world so high,\n",
      "\t\t\t\t\tLike a diamond in the sky.\n",
      "\t\t\tTwinkle, twinkle, little star,\n",
      "\t\t\t\tHow I wonder what are\n"
     ]
    }
   ],
   "source": [
    "print(\"\\t\\t\\tTwinkle, twinkle, little star,\\n\\t\\t\\t\\tHow I wonder what are!\\n\\t\\t\\t\\t\\tUp above the world so high,\\n\\t\\t\\t\\t\\tLike a diamond in the sky.\\n\\t\\t\\tTwinkle, twinkle, little star,\\n\\t\\t\\t\\tHow I wonder what are\")"
   ]
  },
  {
   "cell_type": "code",
   "execution_count": 10,
   "id": "aa14c6f7",
   "metadata": {},
   "outputs": [
    {
     "name": "stdout",
     "output_type": "stream",
     "text": [
      "3.9.7 (default, Sep 16 2021, 16:59:28) [MSC v.1916 64 bit (AMD64)]\n"
     ]
    }
   ],
   "source": [
    "import sys\n",
    "print(sys.version)"
   ]
  },
  {
   "cell_type": "code",
   "execution_count": 13,
   "id": "5eb74c6e",
   "metadata": {},
   "outputs": [
    {
     "name": "stdout",
     "output_type": "stream",
     "text": [
      "Current date and time : \n",
      "2022-01-01 13:16:59\n"
     ]
    }
   ],
   "source": [
    "import datetime\n",
    "now = datetime.datetime.now()\n",
    "print (\"Current date and time : \")\n",
    "print (now.strftime(\"%Y-%m-%d %H:%M:%S\"))"
   ]
  },
  {
   "cell_type": "code",
   "execution_count": 18,
   "id": "924c1b37",
   "metadata": {},
   "outputs": [
    {
     "name": "stdout",
     "output_type": "stream",
     "text": [
      "Input the radius of the circle : 4.3\n",
      "The area of the circle with radius 4.3 is: 58.08804816487527\n"
     ]
    }
   ],
   "source": [
    "import math\n",
    "r = float(input (\"Input the radius of the circle : \"))\n",
    "calculateArea = math.pi * r**2                \n",
    "print (\"The area of the circle with radius \" + str(r) + \" is: \" +str(calculateArea))               "
   ]
  },
  {
   "cell_type": "raw",
   "id": "4c6c82e7",
   "metadata": {},
   "source": [
    "fname = input(\"Input your First Name : \")\n",
    "lname = input(\"Input your Last Name : \")\n",
    "print (\"Hello  \" + lname + \" \" + fname)"
   ]
  },
  {
   "cell_type": "code",
   "execution_count": 20,
   "id": "3eb3886b",
   "metadata": {},
   "outputs": [
    {
     "name": "stdout",
     "output_type": "stream",
     "text": [
      "Input your First Name : fatima\n",
      "Input your Last Name : jawaid\n",
      "jawaid fatima\n"
     ]
    }
   ],
   "source": [
    "fname = input(\"Input your First Name :\")\n",
    "lname = input(\"Input your Last Name : \")\n",
    "print (lname + \" \" + fname)"
   ]
  },
  {
   "cell_type": "code",
   "execution_count": 22,
   "id": "898b8877",
   "metadata": {},
   "outputs": [
    {
     "name": "stdout",
     "output_type": "stream",
     "text": [
      "Input your NUMBER : er\n",
      "Input your NUMBER: we\n",
      "erwe\n"
     ]
    }
   ],
   "source": [
    "f = input(\"Input your NUMBER : \")\n",
    "n = input(\"Input your NUMBER: \")\n",
    "print(f+n)"
   ]
  },
  {
   "cell_type": "code",
   "execution_count": null,
   "id": "87f9c39c",
   "metadata": {},
   "outputs": [],
   "source": []
  }
 ],
 "metadata": {
  "kernelspec": {
   "display_name": "Python 3 (ipykernel)",
   "language": "python",
   "name": "python3"
  },
  "language_info": {
   "codemirror_mode": {
    "name": "ipython",
    "version": 3
   },
   "file_extension": ".py",
   "mimetype": "text/x-python",
   "name": "python",
   "nbconvert_exporter": "python",
   "pygments_lexer": "ipython3",
   "version": "3.9.7"
  }
 },
 "nbformat": 4,
 "nbformat_minor": 5
}
